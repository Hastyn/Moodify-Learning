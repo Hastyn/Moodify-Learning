{
 "cells": [
  {
   "cell_type": "code",
   "execution_count": 58,
   "metadata": {},
   "outputs": [],
   "source": [
    "import pandas as pd\n",
    "import matplotlib.pyplot as plt\n",
    "import seaborn as sns\n",
    "import numpy as np\n",
    "import numpy.random as nr\n",
    "import math\n",
    "\n",
    "%matplotlib inline"
   ]
  },
  {
   "cell_type": "code",
   "execution_count": 59,
   "metadata": {
    "scrolled": true
   },
   "outputs": [],
   "source": [
    "df = pd.read_json('data.json')\n",
    "df.columns=['X','Y','Labels']\n"
   ]
  },
  {
   "cell_type": "code",
   "execution_count": 60,
   "metadata": {
    "scrolled": true
   },
   "outputs": [],
   "source": [
    "def sigmoidify(z):\n",
    "    k=1.0/(1+np.exp(-z))\n",
    "    return k"
   ]
  },
  {
   "cell_type": "code",
   "execution_count": 61,
   "metadata": {},
   "outputs": [],
   "source": [
    "def modify_weights(w,b):\n",
    "    y=df['Labels'].to_numpy()\n",
    "    z=np.dot(w,df[['X','Y']].to_numpy().T)\n",
    "    h=sigmoidify(z+b)\n",
    "    cost=(-1.0)*(np.sum(y*np.log(h))+np.sum((1-y)*np.log(1-h)))/6000\n",
    "    dw=(1.0/6000)*np.dot(df[['X','Y']].to_numpy().T,(h-y.T).T)  \n",
    "    db=(1.0/6000)*np.sum((h-y.T))\n",
    "    grads={'dw':dw,'db':db}\n",
    "    return grads,cost"
   ]
  },
  {
   "cell_type": "code",
   "execution_count": 64,
   "metadata": {},
   "outputs": [],
   "source": [
    "def model_predict(w,b,learning,no_iterations):\n",
    "    costs=[]\n",
    "    for i in range(no_iterations):\n",
    "        grads,cost=modify_weights(w,b)\n",
    "        if(i%10==0):\n",
    "            costs.append(cost)\n",
    "        w=w - (learning*(grads['dw'].T))\n",
    "        b=b - (learning*grads['db'])\n",
    "    plt.plot(costs)\n",
    "    plt.xlabel('iterations(multiple of 10)')\n",
    "    plt.ylabel('cost')\n",
    "    plt.title('cost reduction')\n",
    "    plt.show()\n",
    "    return w,b\n"
   ]
  },
  {
   "cell_type": "code",
   "execution_count": 69,
   "metadata": {
    "scrolled": true
   },
   "outputs": [
    {
     "data": {
      "image/png": "[encoded data removed]",
      "text/plain": [
       "<Figure size 432x288 with 1 Axes>"
      ]
     },
     "metadata": {
      "needs_background": "light"
     },
     "output_type": "display_data"
    },
    {
     "name": "stdout",
     "output_type": "stream",
     "text": [
      "[0.06718674 0.01441553]\n",
      "1.2402001817926414\n"
     ]
    }
   ],
   "source": [
    "w=[0,0]\n",
    "b=0\n",
    "learning=0.01\n",
    "no_iterations=2000\n",
    "w,b= model_predict(w,b,learning,no_iterations)\n",
    "print(w)\n",
    "print(b)\n"
   ]
  },
  {
   "cell_type": "code",
   "execution_count": 73,
   "metadata": {
    "scrolled": false
   },
   "outputs": [],
   "source": [
    "df.drop('Labels',axis=1,inplace=True)\n",
    "df.to_json('input.json')"
   ]
  },
  {
   "cell_type": "code",
   "execution_count": null,
   "metadata": {},
   "outputs": [],
   "source": []
  }
 ],
 "metadata": {
  "kernelspec": {
   "display_name": "Python 3",
   "language": "python",
   "name": "python3"
  },
  "language_info": {
   "codemirror_mode": {
    "name": "ipython",
    "version": 3
   },
   "file_extension": ".py",
   "mimetype": "text/x-python",
   "name": "python",
   "nbconvert_exporter": "python",
   "pygments_lexer": "ipython3",
   "version": "3.8.5"
  }
 },
 "nbformat": 4,
 "nbformat_minor": 4
}
