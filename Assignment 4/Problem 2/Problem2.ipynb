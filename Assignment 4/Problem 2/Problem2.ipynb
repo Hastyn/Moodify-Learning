{
  "nbformat": 4,
  "nbformat_minor": 0,
  "metadata": {
    "colab": {
      "name": "Problem2.ipynb",
      "provenance": [],
      "collapsed_sections": []
    },
    "kernelspec": {
      "name": "python3",
      "display_name": "Python 3"
    },
    "language_info": {
      "name": "python"
    }
  },
  "cells": [
    {
      "cell_type": "markdown",
      "metadata": {
        "id": "wolZfI5Gn4fv"
      },
      "source": [
        "Importing required classes"
      ]
    },
    {
      "cell_type": "code",
      "metadata": {
        "id": "edEanOFkjvGJ"
      },
      "source": [
        "import tensorflow as tf\n",
        "\n",
        "from tensorflow.keras import datasets, layers, models\n",
        "import matplotlib.pyplot as plt\n",
        "import pandas as pd\n",
        "import seaborn as sns\n",
        "import numpy as np\n",
        "import numpy.random as nr\n",
        "import math\n",
        "\n",
        "%matplotlib inline"
      ],
      "execution_count": null,
      "outputs": []
    },
    {
      "cell_type": "code",
      "metadata": {
        "id": "sD-fp3iN1Gi_"
      },
      "source": [
        "\n",
        "train = pd.read_csv('gdrive/MyDrive/train.csv')\n",
        "test = pd.read_csv('gdrive/MyDrive/test.csv')"
      ],
      "execution_count": null,
      "outputs": []
    },
    {
      "cell_type": "code",
      "metadata": {
        "colab": {
          "base_uri": "https://localhost:8080/"
        },
        "id": "3L1XKVvo1ALU",
        "outputId": "df0465f4-c9fd-44bb-e4c8-3862315e8e04"
      },
      "source": [
        "from google.colab import drive\n",
        "drive.mount('/content/gdrive')"
      ],
      "execution_count": null,
      "outputs": [
        {
          "output_type": "stream",
          "text": [
            "Mounted at /content/gdrive\n"
          ],
          "name": "stdout"
        }
      ]
    },
    {
      "cell_type": "code",
      "metadata": {
        "id": "Rm2l7KKR4zpk",
        "colab": {
          "base_uri": "https://localhost:8080/"
        },
        "outputId": "3aec5bc7-f0a0-4ca7-81ee-4b046f73799d"
      },
      "source": [
        "print(train)"
      ],
      "execution_count": null,
      "outputs": [
        {
          "output_type": "stream",
          "text": [
            "       label  pixel0  pixel1  pixel2  ...  pixel780  pixel781  pixel782  pixel783\n",
            "0          1       0       0       0  ...         0         0         0         0\n",
            "1          0       0       0       0  ...         0         0         0         0\n",
            "2          1       0       0       0  ...         0         0         0         0\n",
            "3          4       0       0       0  ...         0         0         0         0\n",
            "4          0       0       0       0  ...         0         0         0         0\n",
            "...      ...     ...     ...     ...  ...       ...       ...       ...       ...\n",
            "41995      0       0       0       0  ...         0         0         0         0\n",
            "41996      1       0       0       0  ...         0         0         0         0\n",
            "41997      7       0       0       0  ...         0         0         0         0\n",
            "41998      6       0       0       0  ...         0         0         0         0\n",
            "41999      9       0       0       0  ...         0         0         0         0\n",
            "\n",
            "[42000 rows x 785 columns]\n"
          ],
          "name": "stdout"
        }
      ]
    },
    {
      "cell_type": "markdown",
      "metadata": {
        "id": "snNT5KVJ-UW0"
      },
      "source": [
        "We will have to create 2D arrays to input in our CNN from the data given in one line, for this we ust the reshape function available in numpy"
      ]
    },
    {
      "cell_type": "code",
      "metadata": {
        "id": "yH1g2stz51qa",
        "colab": {
          "base_uri": "https://localhost:8080/"
        },
        "outputId": "244710de-9b29-479c-c359-3c3828638eed"
      },
      "source": [
        "train_x=np.zeros((42000,28,28))\n",
        "for i in range(42000):\n",
        "  arr=np.reshape(np.array(train.iloc[i,1:]),(28,28))\n",
        "  train_x[i]=arr\n",
        "print(train_x.shape)"
      ],
      "execution_count": null,
      "outputs": [
        {
          "output_type": "stream",
          "text": [
            "(42000, 28, 28)\n"
          ],
          "name": "stdout"
        }
      ]
    },
    {
      "cell_type": "markdown",
      "metadata": {
        "id": "Cq3vwWZ1Tyul"
      },
      "source": [
        "Now we use tensorflow to create our CNN model (tensorflow makes it really easy)"
      ]
    },
    {
      "cell_type": "code",
      "metadata": {
        "id": "4-2PHfOS-yy8"
      },
      "source": [
        "model = models.Sequential()\n",
        "model.add(layers.Conv2D(32, (3, 3), activation='relu', input_shape=(28, 28,1)))\n",
        "model.add(layers.MaxPooling2D((2, 2)))\n",
        "model.add(layers.Conv2D(64, (3, 3), activation='relu'))\n",
        "model.add(layers.MaxPooling2D((2, 2)))\n",
        "model.add(layers.Conv2D(64, (3, 3), activation='relu'))"
      ],
      "execution_count": null,
      "outputs": []
    },
    {
      "cell_type": "code",
      "metadata": {
        "id": "P_iiW6gc-64z"
      },
      "source": [
        "model.add(layers.Flatten())\n",
        "model.add(layers.Dense(64, activation='relu'))\n",
        "model.add(layers.Dense(10))"
      ],
      "execution_count": null,
      "outputs": []
    },
    {
      "cell_type": "code",
      "metadata": {
        "id": "wUgRfkbtAeq7",
        "colab": {
          "base_uri": "https://localhost:8080/"
        },
        "outputId": "4093a47c-d6b5-43f8-920b-fa2129cfb957"
      },
      "source": [
        "model.summary()"
      ],
      "execution_count": null,
      "outputs": [
        {
          "output_type": "stream",
          "text": [
            "Model: \"sequential\"\n",
            "_________________________________________________________________\n",
            "Layer (type)                 Output Shape              Param #   \n",
            "=================================================================\n",
            "conv2d (Conv2D)              (None, 26, 26, 32)        320       \n",
            "_________________________________________________________________\n",
            "max_pooling2d (MaxPooling2D) (None, 13, 13, 32)        0         \n",
            "_________________________________________________________________\n",
            "conv2d_1 (Conv2D)            (None, 11, 11, 64)        18496     \n",
            "_________________________________________________________________\n",
            "max_pooling2d_1 (MaxPooling2 (None, 5, 5, 64)          0         \n",
            "_________________________________________________________________\n",
            "conv2d_2 (Conv2D)            (None, 3, 3, 64)          36928     \n",
            "_________________________________________________________________\n",
            "flatten (Flatten)            (None, 576)               0         \n",
            "_________________________________________________________________\n",
            "dense (Dense)                (None, 64)                36928     \n",
            "_________________________________________________________________\n",
            "dense_1 (Dense)              (None, 10)                650       \n",
            "=================================================================\n",
            "Total params: 93,322\n",
            "Trainable params: 93,322\n",
            "Non-trainable params: 0\n",
            "_________________________________________________________________\n"
          ],
          "name": "stdout"
        }
      ]
    },
    {
      "cell_type": "markdown",
      "metadata": {
        "id": "3DKxe5VXT-gY"
      },
      "source": [
        "Our model requires inputs of shape (28,28,1) so we have to use np.newaxis to add another dimension to train_x"
      ]
    },
    {
      "cell_type": "code",
      "metadata": {
        "id": "SyFZ0xyiCRFb",
        "colab": {
          "base_uri": "https://localhost:8080/"
        },
        "outputId": "b708970b-de9d-4070-ddb2-a4bde33f5514"
      },
      "source": [
        "train_x=train_x[:,:,:,np.newaxis]\n",
        "print(train_x.shape)"
      ],
      "execution_count": null,
      "outputs": [
        {
          "output_type": "stream",
          "text": [
            "(42000, 28, 28, 1)\n"
          ],
          "name": "stdout"
        }
      ]
    },
    {
      "cell_type": "code",
      "metadata": {
        "colab": {
          "base_uri": "https://localhost:8080/"
        },
        "id": "daut9Wq15Tha",
        "outputId": "7be25d2d-56e5-4c86-87b6-ef1fdbc14570"
      },
      "source": [
        "train_y1=np.array(train.label)\n",
        "print(train_y1.shape)\n",
        "print(train)"
      ],
      "execution_count": null,
      "outputs": [
        {
          "output_type": "stream",
          "text": [
            "(42000,)\n",
            "       label  pixel0  pixel1  pixel2  ...  pixel780  pixel781  pixel782  pixel783\n",
            "0          1       0       0       0  ...         0         0         0         0\n",
            "1          0       0       0       0  ...         0         0         0         0\n",
            "2          1       0       0       0  ...         0         0         0         0\n",
            "3          4       0       0       0  ...         0         0         0         0\n",
            "4          0       0       0       0  ...         0         0         0         0\n",
            "...      ...     ...     ...     ...  ...       ...       ...       ...       ...\n",
            "41995      0       0       0       0  ...         0         0         0         0\n",
            "41996      1       0       0       0  ...         0         0         0         0\n",
            "41997      7       0       0       0  ...         0         0         0         0\n",
            "41998      6       0       0       0  ...         0         0         0         0\n",
            "41999      9       0       0       0  ...         0         0         0         0\n",
            "\n",
            "[42000 rows x 785 columns]\n"
          ],
          "name": "stdout"
        }
      ]
    },
    {
      "cell_type": "markdown",
      "metadata": {
        "id": "lMAPs-F1US-9"
      },
      "source": [
        "Now finally we can compile and fit our model with the train data "
      ]
    },
    {
      "cell_type": "code",
      "metadata": {
        "id": "6wvgaRxDAsLR",
        "colab": {
          "base_uri": "https://localhost:8080/"
        },
        "outputId": "fbf45b41-fa05-4704-ad63-7b95162d1c21"
      },
      "source": [
        "\n",
        "model.compile(optimizer='adam',\n",
        "              loss=tf.keras.losses.SparseCategoricalCrossentropy(from_logits=True),\n",
        "              metrics=['accuracy'])\n",
        "\n",
        "history = model.fit(train_x, train_y1, epochs=10)\n",
        "                    "
      ],
      "execution_count": null,
      "outputs": [
        {
          "output_type": "stream",
          "text": [
            "Epoch 1/10\n",
            "1313/1313 [==============================] - 39s 29ms/step - loss: 0.8519 - accuracy: 0.8671\n",
            "Epoch 2/10\n",
            "1313/1313 [==============================] - 38s 29ms/step - loss: 0.0736 - accuracy: 0.9775\n",
            "Epoch 3/10\n",
            "1313/1313 [==============================] - 39s 30ms/step - loss: 0.0551 - accuracy: 0.9822\n",
            "Epoch 4/10\n",
            "1313/1313 [==============================] - 38s 29ms/step - loss: 0.0443 - accuracy: 0.9863\n",
            "Epoch 5/10\n",
            "1313/1313 [==============================] - 38s 29ms/step - loss: 0.0364 - accuracy: 0.9889\n",
            "Epoch 6/10\n",
            "1313/1313 [==============================] - 38s 29ms/step - loss: 0.0362 - accuracy: 0.9884\n",
            "Epoch 7/10\n",
            "1313/1313 [==============================] - 38s 29ms/step - loss: 0.0301 - accuracy: 0.9904\n",
            "Epoch 8/10\n",
            "1313/1313 [==============================] - 39s 29ms/step - loss: 0.0214 - accuracy: 0.9939\n",
            "Epoch 9/10\n",
            "1313/1313 [==============================] - 39s 30ms/step - loss: 0.0225 - accuracy: 0.9929\n",
            "Epoch 10/10\n",
            "1313/1313 [==============================] - 40s 30ms/step - loss: 0.0247 - accuracy: 0.9921\n"
          ],
          "name": "stdout"
        }
      ]
    },
    {
      "cell_type": "markdown",
      "metadata": {
        "id": "q2lHKFs7Ucft"
      },
      "source": [
        "Now our weights are good we can predict outputs for test cases"
      ]
    },
    {
      "cell_type": "code",
      "metadata": {
        "colab": {
          "base_uri": "https://localhost:8080/"
        },
        "id": "YC1qJUiP7rFd",
        "outputId": "9d0e1651-f956-4207-b22a-62ca704ea72b"
      },
      "source": [
        "print(test)"
      ],
      "execution_count": null,
      "outputs": [
        {
          "output_type": "stream",
          "text": [
            "       pixel0  pixel1  pixel2  pixel3  ...  pixel780  pixel781  pixel782  pixel783\n",
            "0           0       0       0       0  ...         0         0         0         0\n",
            "1           0       0       0       0  ...         0         0         0         0\n",
            "2           0       0       0       0  ...         0         0         0         0\n",
            "3           0       0       0       0  ...         0         0         0         0\n",
            "4           0       0       0       0  ...         0         0         0         0\n",
            "...       ...     ...     ...     ...  ...       ...       ...       ...       ...\n",
            "27995       0       0       0       0  ...         0         0         0         0\n",
            "27996       0       0       0       0  ...         0         0         0         0\n",
            "27997       0       0       0       0  ...         0         0         0         0\n",
            "27998       0       0       0       0  ...         0         0         0         0\n",
            "27999       0       0       0       0  ...         0         0         0         0\n",
            "\n",
            "[28000 rows x 784 columns]\n"
          ],
          "name": "stdout"
        }
      ]
    },
    {
      "cell_type": "code",
      "metadata": {
        "colab": {
          "base_uri": "https://localhost:8080/",
          "height": 300
        },
        "id": "XWTRQvQN7dHI",
        "outputId": "996af557-6466-4932-8f9c-9b2b7ced6945"
      },
      "source": [
        "plt.plot(history.history['accuracy'], label='accuracy')\n",
        "plt.xlabel('Epoch')\n",
        "plt.ylabel('Accuracy')\n",
        "plt.ylim([0.5, 1])\n",
        "plt.legend(loc='lower right')\n",
        "\n"
      ],
      "execution_count": null,
      "outputs": [
        {
          "output_type": "execute_result",
          "data": {
            "text/plain": [
              "<matplotlib.legend.Legend at 0x7f60ed85d190>"
            ]
          },
          "metadata": {
            "tags": []
          },
          "execution_count": 30
        },
        {
          "output_type": "display_data",
          "data": {
            "image/png": "[encoded data removed]",
            "text/plain": [
              "<Figure size 432x288 with 1 Axes>"
            ]
          },
          "metadata": {
            "tags": [],
            "needs_background": "light"
          }
        }
      ]
    },
    {
      "cell_type": "code",
      "metadata": {
        "colab": {
          "base_uri": "https://localhost:8080/"
        },
        "id": "z02O3tCg9dEB",
        "outputId": "2f07d324-44d6-41f7-f77e-12ebc5e3aad7"
      },
      "source": [
        "test_x=np.zeros((28000,28,28))\n",
        "for i in range(28000):\n",
        "  arr=np.reshape(np.array(test.iloc[i,0:]),(28,28))\n",
        "  test_x[i]=arr\n",
        "print(test_x.shape)\n",
        "test_x=test_x[:,:,:,np.newaxis]\n",
        "print(test_x.shape)"
      ],
      "execution_count": null,
      "outputs": [
        {
          "output_type": "stream",
          "text": [
            "(28000, 28, 28)\n",
            "(28000, 28, 28, 1)\n"
          ],
          "name": "stdout"
        }
      ]
    },
    {
      "cell_type": "code",
      "metadata": {
        "id": "-cxhissW-SAA"
      },
      "source": [
        "predictions = model(test_x, training=False)\n"
      ],
      "execution_count": null,
      "outputs": []
    },
    {
      "cell_type": "code",
      "metadata": {
        "colab": {
          "base_uri": "https://localhost:8080/"
        },
        "id": "cmid-GJl-aH0",
        "outputId": "efc8d658-2e30-4878-efc1-112323ee127c"
      },
      "source": [
        "print(predictions)"
      ],
      "execution_count": null,
      "outputs": [
        {
          "output_type": "stream",
          "text": [
            "tf.Tensor(\n",
            "[[ -0.8943529   7.5691757  28.741083  ...   5.6420836 -11.9938\n",
            "   -4.0548553]\n",
            " [ 27.689142   -7.888076    4.5192833 ...   5.2807107   2.6563158\n",
            "    5.0929728]\n",
            " [-10.394838   -3.7910948  -1.6679579 ...   5.2930346   8.137947\n",
            "   18.404415 ]\n",
            " ...\n",
            " [  2.5925791   7.2304797  11.641364  ...  17.57304     7.8079205\n",
            "   15.222433 ]\n",
            " [ -2.045692   -3.157062   -4.825024  ...   6.2846494   6.0758357\n",
            "   20.24177  ]\n",
            " [ -8.159147    1.495016   26.98941   ...   1.951115   -9.92803\n",
            "   -7.602628 ]], shape=(28000, 10), dtype=float32)\n"
          ],
          "name": "stdout"
        }
      ]
    },
    {
      "cell_type": "code",
      "metadata": {
        "colab": {
          "base_uri": "https://localhost:8080/"
        },
        "id": "H5hSIOFh_D1c",
        "outputId": "bd17a1e5-9aef-4af2-a3b6-59c1dda3ec60"
      },
      "source": [
        "class_idx=np.zeros((28000))\n",
        "arr=np.zeros(28000)\n",
        "for i, logits in enumerate(predictions):\n",
        "  class_idx[i] = tf.argmax(logits).numpy()\n",
        "  arr[i]=int(i+1)\n",
        "print(class_idx)  \n",
        "print(arr)"
      ],
      "execution_count": null,
      "outputs": [
        {
          "output_type": "stream",
          "text": [
            "[2. 0. 9. ... 3. 9. 2.]\n",
            "[1.0000e+00 2.0000e+00 3.0000e+00 ... 2.7998e+04 2.7999e+04 2.8000e+04]\n"
          ],
          "name": "stdout"
        }
      ]
    },
    {
      "cell_type": "markdown",
      "metadata": {
        "id": "qun4G1TBUlI2"
      },
      "source": [
        "Finally we store results in dataframe and convert it to csv format"
      ]
    },
    {
      "cell_type": "code",
      "metadata": {
        "colab": {
          "base_uri": "https://localhost:8080/"
        },
        "id": "tf_ZsshiAlml",
        "outputId": "7e033818-44c5-411d-d575-42d42c094d06"
      },
      "source": [
        "df=pd.DataFrame(data=arr,columns=['ImageId'])\n",
        "print(df)\n"
      ],
      "execution_count": null,
      "outputs": [
        {
          "output_type": "stream",
          "text": [
            "       ImageId\n",
            "0          1.0\n",
            "1          2.0\n",
            "2          3.0\n",
            "3          4.0\n",
            "4          5.0\n",
            "...        ...\n",
            "27995  27996.0\n",
            "27996  27997.0\n",
            "27997  27998.0\n",
            "27998  27999.0\n",
            "27999  28000.0\n",
            "\n",
            "[28000 rows x 1 columns]\n"
          ],
          "name": "stdout"
        }
      ]
    },
    {
      "cell_type": "code",
      "metadata": {
        "colab": {
          "base_uri": "https://localhost:8080/"
        },
        "id": "-FJtD4PuDrkL",
        "outputId": "bac2df20-b188-48fe-fe35-efdf2575c2bd"
      },
      "source": [
        "df['Label']=class_idx\n",
        "print(df)"
      ],
      "execution_count": null,
      "outputs": [
        {
          "output_type": "stream",
          "text": [
            "       ImageId  Label\n",
            "0          1.0    2.0\n",
            "1          2.0    0.0\n",
            "2          3.0    9.0\n",
            "3          4.0    0.0\n",
            "4          5.0    3.0\n",
            "...        ...    ...\n",
            "27995  27996.0    9.0\n",
            "27996  27997.0    7.0\n",
            "27997  27998.0    3.0\n",
            "27998  27999.0    9.0\n",
            "27999  28000.0    2.0\n",
            "\n",
            "[28000 rows x 2 columns]\n"
          ],
          "name": "stdout"
        }
      ]
    },
    {
      "cell_type": "code",
      "metadata": {
        "id": "qH0lfwCKKbYT"
      },
      "source": [
        "df=df.astype(int)"
      ],
      "execution_count": null,
      "outputs": []
    },
    {
      "cell_type": "code",
      "metadata": {
        "id": "2KbIz6h5D1aA"
      },
      "source": [
        "df.to_csv(\"submission.csv\",index=False)"
      ],
      "execution_count": null,
      "outputs": []
    }
  ]
}